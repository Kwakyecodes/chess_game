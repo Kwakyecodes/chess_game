{
  "nbformat": 4,
  "nbformat_minor": 0,
  "metadata": {
    "colab": {
      "provenance": []
    },
    "kernelspec": {
      "name": "python3",
      "display_name": "Python 3"
    },
    "language_info": {
      "name": "python"
    }
  },
  "cells": [
    {
      "cell_type": "code",
      "execution_count": null,
      "metadata": {
        "colab": {
          "base_uri": "https://localhost:8080/"
        },
        "id": "SFzC8zI9Ofz4",
        "outputId": "e7a10462-f7e3-4c9f-8170-38e6f1ffd99d"
      },
      "outputs": [
        {
          "output_type": "stream",
          "name": "stdout",
          "text": [
            "11187\n",
            "11187\n"
          ]
        }
      ],
      "source": [
        "# LOADING THE DATA\n",
        "import pickle\n",
        "\n",
        "# Load training data\n",
        "training_data = []\n",
        "with open(\"/content/drive/MyDrive/chess_training_data/training_data2.pkl\", \"rb\") as f:\n",
        "    while True:\n",
        "        try:\n",
        "            training_data.append(pickle.load(f))\n",
        "        except EOFError:\n",
        "            break\n",
        "\n",
        "# Loading labels data\n",
        "labels_data = []\n",
        "with open(\"/content/drive/MyDrive/chess_training_data/labels2.pkl\", \"rb\") as f:\n",
        "    while True:\n",
        "        try:\n",
        "            labels_data.append(pickle.load(f))\n",
        "        except EOFError:\n",
        "            break\n",
        "\n",
        "\n",
        "# Check the lengths of the loaded data\n",
        "print(len(training_data))\n",
        "print(len(labels_data))"
      ]
    },
    {
      "cell_type": "code",
      "source": [
        "import numpy as np\n",
        "\n",
        "# Getting data values from list of np arrays\n",
        "labels_data = np.array([data for data in labels_data])\n",
        "print(labels_data.shape)\n",
        "\n",
        "# Given the training data a dimension of 1\n",
        "training_data = np.expand_dims(training_data, axis=-1)\n",
        "print(training_data.shape)"
      ],
      "metadata": {
        "colab": {
          "base_uri": "https://localhost:8080/"
        },
        "id": "0LDiFfF8PVlc",
        "outputId": "4785862e-418e-410a-b535-a4cd992569d4"
      },
      "execution_count": null,
      "outputs": [
        {
          "output_type": "stream",
          "name": "stdout",
          "text": [
            "(11187, 4)\n",
            "(11187, 8, 8, 1)\n"
          ]
        }
      ]
    },
    {
      "cell_type": "code",
      "source": [
        "import tensorflow as tf\n",
        "from tensorflow.keras import datasets, layers, models\n",
        "from tensorflow.keras.utils import to_categorical"
      ],
      "metadata": {
        "id": "opsW97yYPcjD"
      },
      "execution_count": null,
      "outputs": []
    },
    {
      "cell_type": "code",
      "source": [
        "# Define the CNN architecture\n",
        "input_layer = layers.Input(shape=(8, 8, 1))\n",
        "\n",
        "# Shared layers\n",
        "x = layers.Conv2D(32, (3, 3), activation='relu')(input_layer)\n",
        "x = layers.MaxPooling2D((2, 2))(x)\n",
        "x = layers.Conv2D(64, (3, 3), activation='relu')(x)\n",
        "x = layers.Flatten()(x)\n",
        "x = layers.Dense(64, activation='relu')(x)\n",
        "\n",
        "# Separate output layers for each coordinate (classification)\n",
        "output1 = layers.Dense(8, activation='softmax', name='output1')(x)  # Coordinate 1\n",
        "output2 = layers.Dense(8, activation='softmax', name='output2')(x)  # Coordinate 2\n",
        "output3 = layers.Dense(8, activation='softmax', name='output3')(x)  # Coordinate 3\n",
        "output4 = layers.Dense(8, activation='softmax', name='output4')(x)  # Coordinate 4\n",
        "\n",
        "# Create the model\n",
        "model = models.Model(inputs=input_layer, outputs=[output1, output2, output3, output4])"
      ],
      "metadata": {
        "id": "wi3ZVX3oPfrX"
      },
      "execution_count": null,
      "outputs": []
    },
    {
      "cell_type": "code",
      "source": [
        "model.summary()"
      ],
      "metadata": {
        "colab": {
          "base_uri": "https://localhost:8080/"
        },
        "id": "jTY1jwREQyH0",
        "outputId": "22dc8a32-8a9f-40d4-9eea-d59dfc05ae81"
      },
      "execution_count": null,
      "outputs": [
        {
          "output_type": "stream",
          "name": "stdout",
          "text": [
            "Model: \"model_3\"\n",
            "__________________________________________________________________________________________________\n",
            " Layer (type)                Output Shape                 Param #   Connected to                  \n",
            "==================================================================================================\n",
            " input_4 (InputLayer)        [(None, 8, 8, 1)]            0         []                            \n",
            "                                                                                                  \n",
            " conv2d_12 (Conv2D)          (None, 6, 6, 32)             320       ['input_4[0][0]']             \n",
            "                                                                                                  \n",
            " max_pooling2d_6 (MaxPoolin  (None, 3, 3, 32)             0         ['conv2d_12[0][0]']           \n",
            " g2D)                                                                                             \n",
            "                                                                                                  \n",
            " conv2d_13 (Conv2D)          (None, 1, 1, 64)             18496     ['max_pooling2d_6[0][0]']     \n",
            "                                                                                                  \n",
            " flatten_6 (Flatten)         (None, 64)                   0         ['conv2d_13[0][0]']           \n",
            "                                                                                                  \n",
            " dense_9 (Dense)             (None, 64)                   4160      ['flatten_6[0][0]']           \n",
            "                                                                                                  \n",
            " output1 (Dense)             (None, 8)                    520       ['dense_9[0][0]']             \n",
            "                                                                                                  \n",
            " output2 (Dense)             (None, 8)                    520       ['dense_9[0][0]']             \n",
            "                                                                                                  \n",
            " output3 (Dense)             (None, 8)                    520       ['dense_9[0][0]']             \n",
            "                                                                                                  \n",
            " output4 (Dense)             (None, 8)                    520       ['dense_9[0][0]']             \n",
            "                                                                                                  \n",
            "==================================================================================================\n",
            "Total params: 25056 (97.88 KB)\n",
            "Trainable params: 25056 (97.88 KB)\n",
            "Non-trainable params: 0 (0.00 Byte)\n",
            "__________________________________________________________________________________________________\n"
          ]
        }
      ]
    },
    {
      "cell_type": "code",
      "source": [
        "# Compile the model\n",
        "model.compile(optimizer='adam',\n",
        "              loss='categorical_crossentropy',  # Classification loss\n",
        "              metrics=['accuracy'])"
      ],
      "metadata": {
        "id": "GABO5snHQn8j"
      },
      "execution_count": null,
      "outputs": []
    },
    {
      "cell_type": "code",
      "source": [
        "# Assuming each coordinate can take values from 0 to 7\n",
        "num_classes = 8\n",
        "\n",
        "# Split the labels_data into four separate arrays\n",
        "labels1 = labels_data[:, 0]  # First coordinate\n",
        "labels2 = labels_data[:, 1]  # Second coordinate\n",
        "labels3 = labels_data[:, 2]  # Third coordinate\n",
        "labels4 = labels_data[:, 3]  # Fourth coordinate\n",
        "\n",
        "# One-hot encode each of the label arrays\n",
        "labels1 = to_categorical(labels1, num_classes=num_classes)\n",
        "labels2 = to_categorical(labels2, num_classes=num_classes)\n",
        "labels3 = to_categorical(labels3, num_classes=num_classes)\n",
        "labels4 = to_categorical(labels4, num_classes=num_classes)"
      ],
      "metadata": {
        "id": "ZJaRW7czP4XQ"
      },
      "execution_count": null,
      "outputs": []
    },
    {
      "cell_type": "code",
      "source": [
        "# Train the model\n",
        "history = model.fit(training_data, [labels1, labels2, labels3, labels4], epochs=10, validation_split=0.2)"
      ],
      "metadata": {
        "colab": {
          "base_uri": "https://localhost:8080/"
        },
        "id": "-R3MjMtWP1W1",
        "outputId": "789928b3-1508-4d01-df49-336a3cecdff9"
      },
      "execution_count": null,
      "outputs": [
        {
          "output_type": "stream",
          "name": "stdout",
          "text": [
            "Epoch 1/10\n",
            "280/280 [==============================] - 5s 10ms/step - loss: 7.8701 - output1_loss: 1.8666 - output2_loss: 1.9114 - output3_loss: 2.0231 - output4_loss: 2.0690 - output1_accuracy: 0.2600 - output2_accuracy: 0.2630 - output3_accuracy: 0.1837 - output4_accuracy: 0.1709 - val_loss: 8.7949 - val_output1_loss: 2.1980 - val_output2_loss: 2.3038 - val_output3_loss: 2.1151 - val_output4_loss: 2.1780 - val_output1_accuracy: 0.0760 - val_output2_accuracy: 0.1349 - val_output3_accuracy: 0.1430 - val_output4_accuracy: 0.0965\n",
            "Epoch 2/10\n",
            "280/280 [==============================] - 2s 8ms/step - loss: 7.3414 - output1_loss: 1.6308 - output2_loss: 1.7053 - output3_loss: 1.9744 - output4_loss: 2.0309 - output1_accuracy: 0.3595 - output2_accuracy: 0.3422 - output3_accuracy: 0.2113 - output4_accuracy: 0.1956 - val_loss: 9.1196 - val_output1_loss: 2.2766 - val_output2_loss: 2.4638 - val_output3_loss: 2.1717 - val_output4_loss: 2.2076 - val_output1_accuracy: 0.1488 - val_output2_accuracy: 0.1229 - val_output3_accuracy: 0.1372 - val_output4_accuracy: 0.1193\n",
            "Epoch 3/10\n",
            "280/280 [==============================] - 2s 8ms/step - loss: 7.0740 - output1_loss: 1.5021 - output2_loss: 1.6160 - output3_loss: 1.9441 - output4_loss: 2.0118 - output1_accuracy: 0.3988 - output2_accuracy: 0.3651 - output3_accuracy: 0.2305 - output4_accuracy: 0.2059 - val_loss: 9.1735 - val_output1_loss: 2.3375 - val_output2_loss: 2.4714 - val_output3_loss: 2.1710 - val_output4_loss: 2.1936 - val_output1_accuracy: 0.1626 - val_output2_accuracy: 0.1081 - val_output3_accuracy: 0.1546 - val_output4_accuracy: 0.1340\n",
            "Epoch 4/10\n",
            "280/280 [==============================] - 1s 5ms/step - loss: 6.9048 - output1_loss: 1.4321 - output2_loss: 1.5449 - output3_loss: 1.9323 - output4_loss: 1.9955 - output1_accuracy: 0.4099 - output2_accuracy: 0.3864 - output3_accuracy: 0.2381 - output4_accuracy: 0.2195 - val_loss: 9.7151 - val_output1_loss: 2.5577 - val_output2_loss: 2.6295 - val_output3_loss: 2.2576 - val_output4_loss: 2.2702 - val_output1_accuracy: 0.1475 - val_output2_accuracy: 0.0867 - val_output3_accuracy: 0.1367 - val_output4_accuracy: 0.1282\n",
            "Epoch 5/10\n",
            "280/280 [==============================] - 1s 5ms/step - loss: 6.8105 - output1_loss: 1.3869 - output2_loss: 1.5056 - output3_loss: 1.9256 - output4_loss: 1.9924 - output1_accuracy: 0.4231 - output2_accuracy: 0.3968 - output3_accuracy: 0.2351 - output4_accuracy: 0.2173 - val_loss: 9.9214 - val_output1_loss: 2.6780 - val_output2_loss: 2.6900 - val_output3_loss: 2.2712 - val_output4_loss: 2.2822 - val_output1_accuracy: 0.1470 - val_output2_accuracy: 0.1242 - val_output3_accuracy: 0.1278 - val_output4_accuracy: 0.1296\n",
            "Epoch 6/10\n",
            "280/280 [==============================] - 1s 5ms/step - loss: 6.7322 - output1_loss: 1.3491 - output2_loss: 1.4801 - output3_loss: 1.9207 - output4_loss: 1.9823 - output1_accuracy: 0.4318 - output2_accuracy: 0.4035 - output3_accuracy: 0.2346 - output4_accuracy: 0.2292 - val_loss: 9.9336 - val_output1_loss: 2.6800 - val_output2_loss: 2.7062 - val_output3_loss: 2.2827 - val_output4_loss: 2.2647 - val_output1_accuracy: 0.1492 - val_output2_accuracy: 0.1184 - val_output3_accuracy: 0.1291 - val_output4_accuracy: 0.1287\n",
            "Epoch 7/10\n",
            "280/280 [==============================] - 1s 5ms/step - loss: 6.6738 - output1_loss: 1.3251 - output2_loss: 1.4586 - output3_loss: 1.9100 - output4_loss: 1.9802 - output1_accuracy: 0.4298 - output2_accuracy: 0.4112 - output3_accuracy: 0.2456 - output4_accuracy: 0.2247 - val_loss: 9.9883 - val_output1_loss: 2.7246 - val_output2_loss: 2.7540 - val_output3_loss: 2.2638 - val_output4_loss: 2.2459 - val_output1_accuracy: 0.1488 - val_output2_accuracy: 0.1157 - val_output3_accuracy: 0.1439 - val_output4_accuracy: 0.1358\n",
            "Epoch 8/10\n",
            "280/280 [==============================] - 1s 5ms/step - loss: 6.6209 - output1_loss: 1.3007 - output2_loss: 1.4413 - output3_loss: 1.9033 - output4_loss: 1.9756 - output1_accuracy: 0.4431 - output2_accuracy: 0.4082 - output3_accuracy: 0.2439 - output4_accuracy: 0.2289 - val_loss: 10.1963 - val_output1_loss: 2.8274 - val_output2_loss: 2.8480 - val_output3_loss: 2.2742 - val_output4_loss: 2.2467 - val_output1_accuracy: 0.1336 - val_output2_accuracy: 0.1483 - val_output3_accuracy: 0.1416 - val_output4_accuracy: 0.1376\n",
            "Epoch 9/10\n",
            "280/280 [==============================] - 2s 6ms/step - loss: 6.5883 - output1_loss: 1.2879 - output2_loss: 1.4265 - output3_loss: 1.9025 - output4_loss: 1.9715 - output1_accuracy: 0.4414 - output2_accuracy: 0.4161 - output3_accuracy: 0.2485 - output4_accuracy: 0.2292 - val_loss: 10.2103 - val_output1_loss: 2.8259 - val_output2_loss: 2.8469 - val_output3_loss: 2.2823 - val_output4_loss: 2.2551 - val_output1_accuracy: 0.1595 - val_output2_accuracy: 0.1323 - val_output3_accuracy: 0.1305 - val_output4_accuracy: 0.1282\n",
            "Epoch 10/10\n",
            "280/280 [==============================] - 2s 6ms/step - loss: 6.5536 - output1_loss: 1.2807 - output2_loss: 1.4104 - output3_loss: 1.8963 - output4_loss: 1.9663 - output1_accuracy: 0.4398 - output2_accuracy: 0.4129 - output3_accuracy: 0.2544 - output4_accuracy: 0.2284 - val_loss: 10.3857 - val_output1_loss: 2.8750 - val_output2_loss: 2.8940 - val_output3_loss: 2.3258 - val_output4_loss: 2.2909 - val_output1_accuracy: 0.1765 - val_output2_accuracy: 0.1537 - val_output3_accuracy: 0.1372 - val_output4_accuracy: 0.1314\n"
          ]
        }
      ]
    },
    {
      "cell_type": "code",
      "source": [
        "# Save model weights\n",
        "model.save_weights('cnn_weights2.h5')"
      ],
      "metadata": {
        "id": "nNN7qeO2SGZF"
      },
      "execution_count": null,
      "outputs": []
    }
  ]
}